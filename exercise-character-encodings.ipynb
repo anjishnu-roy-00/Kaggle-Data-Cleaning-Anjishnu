{
 "cells": [
  {
   "cell_type": "markdown",
   "id": "c2bed46b",
   "metadata": {
    "papermill": {
     "duration": 0.006208,
     "end_time": "2022-07-11T08:16:12.919465",
     "exception": false,
     "start_time": "2022-07-11T08:16:12.913257",
     "status": "completed"
    },
    "tags": []
   },
   "source": [
    "**This notebook is an exercise in the [Data Cleaning](https://www.kaggle.com/learn/data-cleaning) course.  You can reference the tutorial at [this link](https://www.kaggle.com/alexisbcook/character-encodings).**\n",
    "\n",
    "---\n"
   ]
  },
  {
   "cell_type": "markdown",
   "id": "056060a4",
   "metadata": {
    "papermill": {
     "duration": 0.004887,
     "end_time": "2022-07-11T08:16:12.929858",
     "exception": false,
     "start_time": "2022-07-11T08:16:12.924971",
     "status": "completed"
    },
    "tags": []
   },
   "source": [
    "In this exercise, you'll apply what you learned in the **Character encodings** tutorial.\n",
    "\n",
    "# Setup\n",
    "\n",
    "The questions below will give you feedback on your work. Run the following cell to set up the feedback system."
   ]
  },
  {
   "cell_type": "code",
   "execution_count": 1,
   "id": "9f79b49a",
   "metadata": {
    "execution": {
     "iopub.execute_input": "2022-07-11T08:16:12.943307Z",
     "iopub.status.busy": "2022-07-11T08:16:12.942146Z",
     "iopub.status.idle": "2022-07-11T08:16:13.040678Z",
     "shell.execute_reply": "2022-07-11T08:16:13.039569Z"
    },
    "papermill": {
     "duration": 0.108659,
     "end_time": "2022-07-11T08:16:13.043710",
     "exception": false,
     "start_time": "2022-07-11T08:16:12.935051",
     "status": "completed"
    },
    "tags": []
   },
   "outputs": [
    {
     "name": "stdout",
     "output_type": "stream",
     "text": [
      "Setup Complete\n"
     ]
    }
   ],
   "source": [
    "from learntools.core import binder\n",
    "binder.bind(globals())\n",
    "from learntools.data_cleaning.ex4 import *\n",
    "print(\"Setup Complete\")"
   ]
  },
  {
   "cell_type": "markdown",
   "id": "09b4d26e",
   "metadata": {
    "papermill": {
     "duration": 0.004966,
     "end_time": "2022-07-11T08:16:13.053987",
     "exception": false,
     "start_time": "2022-07-11T08:16:13.049021",
     "status": "completed"
    },
    "tags": []
   },
   "source": [
    "# Get our environment set up\n",
    "\n",
    "The first thing we'll need to do is load in the libraries we'll be using."
   ]
  },
  {
   "cell_type": "code",
   "execution_count": 2,
   "id": "d3d7e5db",
   "metadata": {
    "execution": {
     "iopub.execute_input": "2022-07-11T08:16:13.067260Z",
     "iopub.status.busy": "2022-07-11T08:16:13.066429Z",
     "iopub.status.idle": "2022-07-11T08:16:13.071888Z",
     "shell.execute_reply": "2022-07-11T08:16:13.071076Z"
    },
    "papermill": {
     "duration": 0.014897,
     "end_time": "2022-07-11T08:16:13.074098",
     "exception": false,
     "start_time": "2022-07-11T08:16:13.059201",
     "status": "completed"
    },
    "tags": []
   },
   "outputs": [],
   "source": [
    "# modules we'll use\n",
    "import pandas as pd\n",
    "import numpy as np\n",
    "\n",
    "# helpful character encoding module\n",
    "import chardet\n",
    "\n",
    "# set seed for reproducibility\n",
    "np.random.seed(0)"
   ]
  },
  {
   "cell_type": "markdown",
   "id": "b14908a1",
   "metadata": {
    "papermill": {
     "duration": 0.004944,
     "end_time": "2022-07-11T08:16:13.084194",
     "exception": false,
     "start_time": "2022-07-11T08:16:13.079250",
     "status": "completed"
    },
    "tags": []
   },
   "source": [
    "# 1) What are encodings?\n",
    "\n",
    "You're working with a dataset composed of bytes.  Run the code cell below to print a sample entry."
   ]
  },
  {
   "cell_type": "code",
   "execution_count": 3,
   "id": "81499812",
   "metadata": {
    "execution": {
     "iopub.execute_input": "2022-07-11T08:16:13.096731Z",
     "iopub.status.busy": "2022-07-11T08:16:13.095928Z",
     "iopub.status.idle": "2022-07-11T08:16:13.102535Z",
     "shell.execute_reply": "2022-07-11T08:16:13.101227Z"
    },
    "papermill": {
     "duration": 0.015788,
     "end_time": "2022-07-11T08:16:13.105062",
     "exception": false,
     "start_time": "2022-07-11T08:16:13.089274",
     "status": "completed"
    },
    "tags": []
   },
   "outputs": [
    {
     "name": "stdout",
     "output_type": "stream",
     "text": [
      "b'\\xa7A\\xa6n'\n",
      "data type: <class 'bytes'>\n"
     ]
    }
   ],
   "source": [
    "sample_entry = b'\\xa7A\\xa6n'\n",
    "print(sample_entry)\n",
    "print('data type:', type(sample_entry))"
   ]
  },
  {
   "cell_type": "markdown",
   "id": "71b8df25",
   "metadata": {
    "papermill": {
     "duration": 0.004922,
     "end_time": "2022-07-11T08:16:13.115186",
     "exception": false,
     "start_time": "2022-07-11T08:16:13.110264",
     "status": "completed"
    },
    "tags": []
   },
   "source": [
    "You notice that it doesn't use the standard UTF-8 encoding. \n",
    "\n",
    "Use the next code cell to create a variable `new_entry` that changes the encoding from `\"big5-tw\"` to `\"utf-8\"`.  `new_entry` should have the bytes datatype."
   ]
  },
  {
   "cell_type": "code",
   "execution_count": 4,
   "id": "3c55dc33",
   "metadata": {
    "execution": {
     "iopub.execute_input": "2022-07-11T08:16:13.127578Z",
     "iopub.status.busy": "2022-07-11T08:16:13.127148Z",
     "iopub.status.idle": "2022-07-11T08:16:13.139849Z",
     "shell.execute_reply": "2022-07-11T08:16:13.138890Z"
    },
    "papermill": {
     "duration": 0.021563,
     "end_time": "2022-07-11T08:16:13.142017",
     "exception": false,
     "start_time": "2022-07-11T08:16:13.120454",
     "status": "completed"
    },
    "tags": []
   },
   "outputs": [
    {
     "data": {
      "application/javascript": [
       "parent.postMessage({\"jupyterEvent\": \"custom.exercise_interaction\", \"data\": {\"outcomeType\": 1, \"valueTowardsCompletion\": 0.3333333333333333, \"interactionType\": 1, \"questionType\": 1, \"questionId\": \"1_EncodingsIntro\", \"learnToolsVersion\": \"0.3.4\", \"failureMessage\": \"\", \"exceptionClass\": \"\", \"trace\": \"\"}}, \"*\")"
      ],
      "text/plain": [
       "<IPython.core.display.Javascript object>"
      ]
     },
     "metadata": {},
     "output_type": "display_data"
    },
    {
     "data": {
      "text/markdown": [
       "<span style=\"color:#33cc33\">Correct</span>"
      ],
      "text/plain": [
       "Correct"
      ]
     },
     "metadata": {},
     "output_type": "display_data"
    }
   ],
   "source": [
    "new_entry = sample_entry.decode(\"big5-tw\").encode(\"utf-8\", errors=\"replace\")\n",
    "\n",
    "# Check your answer\n",
    "q1.check()"
   ]
  },
  {
   "cell_type": "code",
   "execution_count": 5,
   "id": "a6f73763",
   "metadata": {
    "execution": {
     "iopub.execute_input": "2022-07-11T08:16:13.155068Z",
     "iopub.status.busy": "2022-07-11T08:16:13.154310Z",
     "iopub.status.idle": "2022-07-11T08:16:13.159110Z",
     "shell.execute_reply": "2022-07-11T08:16:13.158039Z"
    },
    "papermill": {
     "duration": 0.014257,
     "end_time": "2022-07-11T08:16:13.161735",
     "exception": false,
     "start_time": "2022-07-11T08:16:13.147478",
     "status": "completed"
    },
    "tags": []
   },
   "outputs": [],
   "source": [
    "# Lines below will give you a hint or solution code\n",
    "#q1.hint()\n",
    "#q1.solution()"
   ]
  },
  {
   "cell_type": "markdown",
   "id": "306521eb",
   "metadata": {
    "papermill": {
     "duration": 0.005646,
     "end_time": "2022-07-11T08:16:13.173089",
     "exception": false,
     "start_time": "2022-07-11T08:16:13.167443",
     "status": "completed"
    },
    "tags": []
   },
   "source": [
    "# 2) Reading in files with encoding problems\n",
    "\n",
    "Use the code cell below to read in this file at path `\"../input/fatal-police-shootings-in-the-us/PoliceKillingsUS.csv\"`.  \n",
    "\n",
    "Figure out what the correct encoding should be and read in the file to a DataFrame `police_killings`."
   ]
  },
  {
   "cell_type": "code",
   "execution_count": 6,
   "id": "bcad2f78",
   "metadata": {
    "execution": {
     "iopub.execute_input": "2022-07-11T08:16:13.186293Z",
     "iopub.status.busy": "2022-07-11T08:16:13.185617Z",
     "iopub.status.idle": "2022-07-11T08:16:14.820963Z",
     "shell.execute_reply": "2022-07-11T08:16:14.819864Z"
    },
    "papermill": {
     "duration": 1.644872,
     "end_time": "2022-07-11T08:16:14.823548",
     "exception": false,
     "start_time": "2022-07-11T08:16:13.178676",
     "status": "completed"
    },
    "tags": []
   },
   "outputs": [
    {
     "name": "stdout",
     "output_type": "stream",
     "text": [
      "{'encoding': 'Windows-1252', 'confidence': 0.73, 'language': ''}\n"
     ]
    },
    {
     "data": {
      "application/javascript": [
       "parent.postMessage({\"jupyterEvent\": \"custom.exercise_interaction\", \"data\": {\"outcomeType\": 1, \"valueTowardsCompletion\": 0.3333333333333333, \"interactionType\": 1, \"questionType\": 1, \"questionId\": \"2_ReadIn\", \"learnToolsVersion\": \"0.3.4\", \"failureMessage\": \"\", \"exceptionClass\": \"\", \"trace\": \"\"}}, \"*\")"
      ],
      "text/plain": [
       "<IPython.core.display.Javascript object>"
      ]
     },
     "metadata": {},
     "output_type": "display_data"
    },
    {
     "data": {
      "text/markdown": [
       "<span style=\"color:#33cc33\">Correct</span>"
      ],
      "text/plain": [
       "Correct"
      ]
     },
     "metadata": {},
     "output_type": "display_data"
    }
   ],
   "source": [
    "# TODO: Load in the DataFrame correctly.\n",
    "#police_killings = pd.read_csv(\"../input/fatal-police-shootings-in-the-us/PoliceKillingsUS.csv\")\n",
    "with open(\"../input/fatal-police-shootings-in-the-us/PoliceKillingsUS.csv\", 'rb') as rawdata:\n",
    "    result = chardet.detect(rawdata.read(100000))\n",
    "print(result)\n",
    "police_killings = pd.read_csv(\"../input/fatal-police-shootings-in-the-us/PoliceKillingsUS.csv\", encoding = 'Windows - 1252')\n",
    "police_killings.to_csv(\"ks-projects-201801-utf8.csv\")\n",
    "# Check your answer\n",
    "q2.check()"
   ]
  },
  {
   "cell_type": "markdown",
   "id": "f95c1859",
   "metadata": {
    "papermill": {
     "duration": 0.005899,
     "end_time": "2022-07-11T08:16:14.835757",
     "exception": false,
     "start_time": "2022-07-11T08:16:14.829858",
     "status": "completed"
    },
    "tags": []
   },
   "source": [
    "Feel free to use any additional code cells for supplemental work.  To get credit for finishing this question, you'll need to run `q2.check()` and get a result of **Correct**."
   ]
  },
  {
   "cell_type": "code",
   "execution_count": 7,
   "id": "f0222096",
   "metadata": {
    "execution": {
     "iopub.execute_input": "2022-07-11T08:16:14.849327Z",
     "iopub.status.busy": "2022-07-11T08:16:14.848939Z",
     "iopub.status.idle": "2022-07-11T08:16:14.854125Z",
     "shell.execute_reply": "2022-07-11T08:16:14.852559Z"
    },
    "papermill": {
     "duration": 0.014886,
     "end_time": "2022-07-11T08:16:14.856517",
     "exception": false,
     "start_time": "2022-07-11T08:16:14.841631",
     "status": "completed"
    },
    "tags": []
   },
   "outputs": [],
   "source": [
    "# (Optional) Use this code cell for any additional work."
   ]
  },
  {
   "cell_type": "code",
   "execution_count": 8,
   "id": "3d12b39f",
   "metadata": {
    "execution": {
     "iopub.execute_input": "2022-07-11T08:16:14.870681Z",
     "iopub.status.busy": "2022-07-11T08:16:14.869907Z",
     "iopub.status.idle": "2022-07-11T08:16:14.874377Z",
     "shell.execute_reply": "2022-07-11T08:16:14.873643Z"
    },
    "papermill": {
     "duration": 0.014171,
     "end_time": "2022-07-11T08:16:14.876611",
     "exception": false,
     "start_time": "2022-07-11T08:16:14.862440",
     "status": "completed"
    },
    "tags": []
   },
   "outputs": [],
   "source": [
    "# Lines below will give you a hint or solution code\n",
    "#q2.hint()\n",
    "#q2.solution()"
   ]
  },
  {
   "cell_type": "markdown",
   "id": "25d5002c",
   "metadata": {
    "papermill": {
     "duration": 0.005777,
     "end_time": "2022-07-11T08:16:14.888549",
     "exception": false,
     "start_time": "2022-07-11T08:16:14.882772",
     "status": "completed"
    },
    "tags": []
   },
   "source": [
    "# 3) Saving your files with UTF-8 encoding\n",
    "\n",
    "Save a version of the police killings dataset to CSV with UTF-8 encoding.  Your answer will be marked correct after saving this file.  \n",
    "\n",
    "Note: When using the `to_csv()` method, supply only the name of the file (e.g., `\"my_file.csv\"`).  This saves the file at the filepath `\"/kaggle/working/my_file.csv\"`."
   ]
  },
  {
   "cell_type": "code",
   "execution_count": 9,
   "id": "d3bddaaa",
   "metadata": {
    "execution": {
     "iopub.execute_input": "2022-07-11T08:16:14.902754Z",
     "iopub.status.busy": "2022-07-11T08:16:14.901992Z",
     "iopub.status.idle": "2022-07-11T08:16:14.942243Z",
     "shell.execute_reply": "2022-07-11T08:16:14.941006Z"
    },
    "papermill": {
     "duration": 0.050252,
     "end_time": "2022-07-11T08:16:14.944697",
     "exception": false,
     "start_time": "2022-07-11T08:16:14.894445",
     "status": "completed"
    },
    "tags": []
   },
   "outputs": [
    {
     "data": {
      "application/javascript": [
       "parent.postMessage({\"jupyterEvent\": \"custom.exercise_interaction\", \"data\": {\"outcomeType\": 1, \"valueTowardsCompletion\": 0.3333333333333333, \"interactionType\": 1, \"questionType\": 2, \"questionId\": \"3_SaveCSV\", \"learnToolsVersion\": \"0.3.4\", \"failureMessage\": \"\", \"exceptionClass\": \"\", \"trace\": \"\"}}, \"*\")"
      ],
      "text/plain": [
       "<IPython.core.display.Javascript object>"
      ]
     },
     "metadata": {},
     "output_type": "display_data"
    },
    {
     "data": {
      "text/markdown": [
       "<span style=\"color:#33cc33\">Correct</span>"
      ],
      "text/plain": [
       "Correct"
      ]
     },
     "metadata": {},
     "output_type": "display_data"
    }
   ],
   "source": [
    "# TODO: Save the police killings dataset to CSV\n",
    "police_killings.to_csv(\"ks-projects-201801-utf8.csv\")\n",
    "\n",
    "# Check your answer\n",
    "q3.check()"
   ]
  },
  {
   "cell_type": "code",
   "execution_count": 10,
   "id": "f3095fc2",
   "metadata": {
    "execution": {
     "iopub.execute_input": "2022-07-11T08:16:14.960080Z",
     "iopub.status.busy": "2022-07-11T08:16:14.958173Z",
     "iopub.status.idle": "2022-07-11T08:16:14.963739Z",
     "shell.execute_reply": "2022-07-11T08:16:14.962959Z"
    },
    "papermill": {
     "duration": 0.01522,
     "end_time": "2022-07-11T08:16:14.966029",
     "exception": false,
     "start_time": "2022-07-11T08:16:14.950809",
     "status": "completed"
    },
    "tags": []
   },
   "outputs": [],
   "source": [
    "# Lines below will give you a hint or solution code\n",
    "#q3.hint()\n",
    "#q3.solution()"
   ]
  },
  {
   "cell_type": "markdown",
   "id": "64040aa9",
   "metadata": {
    "papermill": {
     "duration": 0.006222,
     "end_time": "2022-07-11T08:16:14.978471",
     "exception": false,
     "start_time": "2022-07-11T08:16:14.972249",
     "status": "completed"
    },
    "tags": []
   },
   "source": [
    "# (Optional) More practice\n",
    "\n",
    "Check out [this dataset of files in different character encodings](https://www.kaggle.com/rtatman/character-encoding-examples). Can you read in all the files with their original encodings and them save them out as UTF-8 files?\n",
    "\n",
    "If you have a file that's in UTF-8 but has just a couple of weird-looking characters in it, you can try out the [ftfy module](https://ftfy.readthedocs.io/en/latest/#) and see if it helps. \n",
    "\n",
    "# Keep going\n",
    "\n",
    "In the final lesson, learn how to [**clean up inconsistent text entries**](https://www.kaggle.com/alexisbcook/inconsistent-data-entry) in your dataset."
   ]
  },
  {
   "cell_type": "markdown",
   "id": "60585d46",
   "metadata": {
    "papermill": {
     "duration": 0.00608,
     "end_time": "2022-07-11T08:16:14.990929",
     "exception": false,
     "start_time": "2022-07-11T08:16:14.984849",
     "status": "completed"
    },
    "tags": []
   },
   "source": [
    "---\n",
    "\n",
    "\n",
    "\n",
    "\n",
    "*Have questions or comments? Visit the [course discussion forum](https://www.kaggle.com/learn/data-cleaning/discussion) to chat with other learners.*"
   ]
  }
 ],
 "metadata": {
  "kernelspec": {
   "display_name": "Python 3",
   "language": "python",
   "name": "python3"
  },
  "language_info": {
   "codemirror_mode": {
    "name": "ipython",
    "version": 3
   },
   "file_extension": ".py",
   "mimetype": "text/x-python",
   "name": "python",
   "nbconvert_exporter": "python",
   "pygments_lexer": "ipython3",
   "version": "3.7.12"
  },
  "papermill": {
   "default_parameters": {},
   "duration": 13.039926,
   "end_time": "2022-07-11T08:16:15.619804",
   "environment_variables": {},
   "exception": null,
   "input_path": "__notebook__.ipynb",
   "output_path": "__notebook__.ipynb",
   "parameters": {},
   "start_time": "2022-07-11T08:16:02.579878",
   "version": "2.3.4"
  }
 },
 "nbformat": 4,
 "nbformat_minor": 5
}
